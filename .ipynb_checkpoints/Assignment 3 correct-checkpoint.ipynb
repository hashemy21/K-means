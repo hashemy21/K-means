{
 "cells": [
  {
   "cell_type": "code",
   "execution_count": 11,
   "id": "1b388471",
   "metadata": {},
   "outputs": [],
   "source": [
    "import numpy as np\n",
    "import math\n",
    "import matplotlib.pyplot as plt\n",
    "import random as rd\n",
    "%matplotlib inline"
   ]
  },
  {
   "cell_type": "code",
   "execution_count": 12,
   "id": "1b6f14b8",
   "metadata": {},
   "outputs": [
    {
     "data": {
      "text/plain": [
       "(300, 2)"
      ]
     },
     "execution_count": 12,
     "metadata": {},
     "output_type": "execute_result"
    }
   ],
   "source": [
    "pts = []\n",
    "with open('Data.txt') as file:\n",
    "    for readline in file:\n",
    "        line_strip = readline.strip()\n",
    "        point = line_strip.split()\n",
    "        pts.append(point)\n",
    "data = np.array(pts)       \n",
    "dataaa = data.astype(np.float64)\n",
    "dataaa.shape"
   ]
  },
  {
   "cell_type": "code",
   "execution_count": 13,
   "id": "17638d12",
   "metadata": {},
   "outputs": [
    {
     "data": {
      "image/png": "[encoded data removed]",
      "text/plain": [
       "<Figure size 432x288 with 1 Axes>"
      ]
     },
     "metadata": {
      "needs_background": "light"
     },
     "output_type": "display_data"
    }
   ],
   "source": [
    "plt.scatter(dataaa[:,0],dataaa[:,1])\n",
    "plt.show()"
   ]
  },
  {
   "cell_type": "code",
   "execution_count": 14,
   "id": "978a70e5",
   "metadata": {},
   "outputs": [],
   "source": [
    "m=dataaa.shape[0]\n",
    "n=dataaa.shape[1]"
   ]
  },
  {
   "cell_type": "code",
   "execution_count": 15,
   "id": "425289b5",
   "metadata": {},
   "outputs": [],
   "source": [
    "n_iter=1000\n",
    "K = 3\n",
    "Centroids=np.array([]).reshape(n,0)"
   ]
  },
  {
   "cell_type": "code",
   "execution_count": 16,
   "id": "00aefd33",
   "metadata": {},
   "outputs": [
    {
     "data": {
      "text/plain": [
       "array([[ 9.7162 , 19.774  ,  0.53118],\n",
       "       [11.072  , 18.375  ,  1.0686 ]])"
      ]
     },
     "execution_count": 16,
     "metadata": {},
     "output_type": "execute_result"
    }
   ],
   "source": [
    "for i in range(K):\n",
    "    rand=rd.randint(0,m-1)\n",
    "    Centroids=np.c_[Centroids,dataaa[rand]]\n",
    "Centroids"
   ]
  },
  {
   "cell_type": "code",
   "execution_count": 17,
   "id": "5ffdd21a",
   "metadata": {},
   "outputs": [],
   "source": [
    "Output={}"
   ]
  },
  {
   "cell_type": "code",
   "execution_count": 18,
   "id": "ba527e4f",
   "metadata": {},
   "outputs": [],
   "source": [
    "for i in range(n_iter):\n",
    "    EuclidianDistance=np.array([]).reshape(m,0)\n",
    "    for k in range(K):\n",
    "        tempDist=np.sum((dataaa-Centroids[:,k])**2,axis=1)\n",
    "        EuclidianDistance=np.c_[EuclidianDistance,tempDist]\n",
    "    C=np.argmin(EuclidianDistance,axis=1)+1\n",
    "    temp={}\n",
    "    for k in range(K):\n",
    "        temp[k+1]=np.array([]).reshape(2,0)\n",
    "    for i in range(m):\n",
    "        temp[C[i]]=np.c_[temp[C[i]],dataaa[i]]\n",
    "     \n",
    "    for k in range(K):\n",
    "        temp[k+1]=temp[k+1].T\n",
    "    \n",
    "    for k in range(K):\n",
    "        Centroids[:,k]=np.mean(temp[k+1],axis=0)\n",
    "    Output=temp"
   ]
  },
  {
   "cell_type": "code",
   "execution_count": 19,
   "id": "cb892d1f",
   "metadata": {},
   "outputs": [
    {
     "data": {
      "image/png": "[encoded data removed]",
      "text/plain": [
       "<Figure size 432x288 with 1 Axes>"
      ]
     },
     "metadata": {
      "needs_background": "light"
     },
     "output_type": "display_data"
    }
   ],
   "source": [
    "color=['red','blue','green']\n",
    "labels=['cluster1','cluster2','cluster3']\n",
    "for k in range(K):\n",
    "    plt.scatter(Output[k+1][:,0],Output[k+1][:,1],c=color[k],label=labels[k])\n",
    "plt.scatter(Centroids[0,:],Centroids[1,:],s=300,c='yellow',label='Centroids')\n",
    "plt.legend()\n",
    "plt.show()"
   ]
  },
  {
   "cell_type": "code",
   "execution_count": 20,
   "id": "d9b51995",
   "metadata": {},
   "outputs": [
    {
     "data": {
      "text/plain": [
       "{1: array([[12.078 , 10.083 ],\n",
       "        [ 7.778 , 10.158 ],\n",
       "        [10.449 ,  9.4721],\n",
       "        [10.001 , 10.723 ],\n",
       "        [ 9.2438,  9.1501],\n",
       "        [10.404 ,  9.2036],\n",
       "        [ 9.2061, 10.725 ],\n",
       "        [10.86  , 11.687 ],\n",
       "        [10.067 ,  9.6136],\n",
       "        [ 8.3606,  9.4949],\n",
       "        [ 7.5753, 10.408 ],\n",
       "        [ 9.7162, 11.072 ],\n",
       "        [11.146 , 10.968 ],\n",
       "        [10.181 , 10.27  ],\n",
       "        [10.054 ,  9.3656],\n",
       "        [10.688 , 10.63  ],\n",
       "        [ 8.6066,  9.9208],\n",
       "        [11.425 , 11.377 ],\n",
       "        [ 9.1061,  8.5918],\n",
       "        [10.038 , 10.141 ],\n",
       "        [ 9.6364, 11.29  ],\n",
       "        [10.15  ,  9.5051],\n",
       "        [ 8.0555,  9.3752],\n",
       "        [11.524 ,  9.0664],\n",
       "        [10.546 ,  9.7213],\n",
       "        [12.01  ,  9.7995],\n",
       "        [11.417 , 10.137 ],\n",
       "        [10.011 ,  9.1167],\n",
       "        [ 9.061 , 10.083 ],\n",
       "        [ 8.2611,  9.3961],\n",
       "        [10.017 ,  9.6313],\n",
       "        [10.219 ,  9.1618],\n",
       "        [11.046 ,  9.7175],\n",
       "        [ 9.049 , 13.57  ],\n",
       "        [10.795 , 13.408 ],\n",
       "        [10.071 , 11.147 ],\n",
       "        [ 9.2263, 10.787 ],\n",
       "        [10.774 ,  8.7219],\n",
       "        [10.266 ,  9.4154],\n",
       "        [ 9.7649,  9.3806],\n",
       "        [11.877 , 10.535 ],\n",
       "        [10.609 , 10.483 ],\n",
       "        [ 9.8897, 10.108 ],\n",
       "        [10.277 ,  9.6597],\n",
       "        [10.087 ,  9.0742],\n",
       "        [10.174 , 10.005 ],\n",
       "        [10.454 , 11.139 ],\n",
       "        [ 9.3965, 10.427 ],\n",
       "        [ 9.203 , 10.181 ],\n",
       "        [10.361 , 10.657 ],\n",
       "        [11.885 , 10.584 ],\n",
       "        [ 9.6932,  8.3835],\n",
       "        [ 8.9873, 10.019 ],\n",
       "        [ 9.7615,  9.574 ],\n",
       "        [ 9.516 ,  7.966 ],\n",
       "        [ 9.6727,  8.6714],\n",
       "        [10.476 ,  9.6801],\n",
       "        [ 9.87  , 10.825 ],\n",
       "        [ 9.4056,  9.7707],\n",
       "        [ 9.5562, 10.262 ],\n",
       "        [ 8.6775,  9.102 ],\n",
       "        [ 9.1405,  7.8427],\n",
       "        [ 8.587 , 10.094 ],\n",
       "        [ 9.484 ,  9.0488],\n",
       "        [ 8.9149, 11.173 ],\n",
       "        [ 9.2928, 11.735 ],\n",
       "        [ 9.6983,  9.6283],\n",
       "        [ 8.7996, 11.193 ],\n",
       "        [ 9.9806, 10.954 ],\n",
       "        [10.34  ,  8.585 ],\n",
       "        [ 9.0368,  9.9666],\n",
       "        [11.114 , 10.261 ],\n",
       "        [ 8.4139, 10.523 ],\n",
       "        [ 9.6082, 10.677 ],\n",
       "        [ 8.5153, 10.674 ],\n",
       "        [ 9.6554, 10.678 ],\n",
       "        [ 8.6761,  9.6874],\n",
       "        [ 9.4252, 10.379 ],\n",
       "        [ 9.2593,  7.7471],\n",
       "        [ 8.815 ,  8.8316],\n",
       "        [ 7.9351, 11.202 ],\n",
       "        [10.565 ,  9.3393],\n",
       "        [12.    , 10.328 ],\n",
       "        [12.223 , 11.508 ],\n",
       "        [ 9.5078,  9.1111],\n",
       "        [ 9.954 ,  9.0407],\n",
       "        [ 9.5343,  9.5073],\n",
       "        [10.076 , 10.441 ],\n",
       "        [ 9.0812,  9.7952],\n",
       "        [ 8.0805,  9.0222],\n",
       "        [ 9.9636,  8.4271],\n",
       "        [ 8.7749,  9.6297],\n",
       "        [ 8.0976,  9.7789],\n",
       "        [12.374 ,  9.4648],\n",
       "        [ 9.7667,  9.738 ],\n",
       "        [10.404 ,  8.9046],\n",
       "        [11.192 , 10.549 ],\n",
       "        [ 8.3152,  7.8254],\n",
       "        [10.413 , 10.145 ],\n",
       "        [10.502 , 10.669 ]]),\n",
       " 2: array([[19.626, 21.089],\n",
       "        [18.548, 21.785],\n",
       "        [19.381, 19.696],\n",
       "        [20.935, 19.991],\n",
       "        [21.056, 20.507],\n",
       "        [20.16 , 21.203],\n",
       "        [20.287, 20.522],\n",
       "        [20.633, 20.397],\n",
       "        [18.541, 19.517],\n",
       "        [19.418, 19.769],\n",
       "        [18.17 , 20.613],\n",
       "        [19.551, 21.683],\n",
       "        [20.949, 20.568],\n",
       "        [20.717, 18.794],\n",
       "        [22.288, 20.433],\n",
       "        [20.167, 19.908],\n",
       "        [17.844, 19.756],\n",
       "        [21.689, 19.781],\n",
       "        [21.282, 19.12 ],\n",
       "        [19.417, 19.679],\n",
       "        [20.223, 19.216],\n",
       "        [20.779, 19.635],\n",
       "        [20.385, 20.117],\n",
       "        [20.696, 20.174],\n",
       "        [19.887, 19.784],\n",
       "        [19.961, 19.847],\n",
       "        [20.088, 20.034],\n",
       "        [19.21 , 20.458],\n",
       "        [21.423, 21.282],\n",
       "        [20.006, 20.62 ],\n",
       "        [20.686, 19.713],\n",
       "        [19.145, 20.598],\n",
       "        [18.925, 19.754],\n",
       "        [19.909, 18.219],\n",
       "        [19.747, 17.653],\n",
       "        [21.195, 18.286],\n",
       "        [20.606, 19.763],\n",
       "        [20.541, 19.38 ],\n",
       "        [18.555, 19.28 ],\n",
       "        [19.032, 20.041],\n",
       "        [20.202, 19.341],\n",
       "        [19.652, 19.369],\n",
       "        [21.29 , 20.61 ],\n",
       "        [21.341, 20.782],\n",
       "        [19.419, 22.437],\n",
       "        [20.875, 20.302],\n",
       "        [21.395, 20.058],\n",
       "        [20.321, 19.426],\n",
       "        [21.623, 19.805],\n",
       "        [21.062, 19.949],\n",
       "        [20.214, 18.244],\n",
       "        [20.877, 19.743],\n",
       "        [20.194, 20.75 ],\n",
       "        [19.585, 19.429],\n",
       "        [20.358, 20.494],\n",
       "        [20.036, 20.991],\n",
       "        [19.635, 21.077],\n",
       "        [21.771, 20.777],\n",
       "        [20.221, 17.74 ],\n",
       "        [22.73 , 19.436],\n",
       "        [19.704, 20.901],\n",
       "        [20.564, 20.395],\n",
       "        [21.583, 20.005],\n",
       "        [22.729, 20.437],\n",
       "        [20.304, 21.13 ],\n",
       "        [19.21 , 20.154],\n",
       "        [20.803, 19.241],\n",
       "        [18.68 , 19.82 ],\n",
       "        [19.726, 19.792],\n",
       "        [20.272, 20.897],\n",
       "        [21.49 , 20.412],\n",
       "        [21.437, 20.548],\n",
       "        [19.972, 20.148],\n",
       "        [20.924, 19.638],\n",
       "        [19.679, 20.061],\n",
       "        [20.661, 20.217],\n",
       "        [21.915, 18.602],\n",
       "        [20.157, 20.179],\n",
       "        [19.699, 20.928],\n",
       "        [19.5  , 19.89 ],\n",
       "        [20.716, 21.572],\n",
       "        [21.337, 20.56 ],\n",
       "        [22.126, 19.58 ],\n",
       "        [20.054, 19.846],\n",
       "        [20.163, 19.725],\n",
       "        [19.367, 20.241],\n",
       "        [21.612, 20.755],\n",
       "        [19.925, 19.708],\n",
       "        [19.527, 20.458],\n",
       "        [22.184, 21.755],\n",
       "        [20.81 , 20.931],\n",
       "        [20.716, 20.825],\n",
       "        [18.994, 19.185],\n",
       "        [20.434, 19.466],\n",
       "        [20.52 , 20.243],\n",
       "        [18.908, 19.899],\n",
       "        [19.774, 18.375],\n",
       "        [19.595, 18.486],\n",
       "        [20.528, 21.026],\n",
       "        [18.993, 19.242]]),\n",
       " 3: array([[ 1.5117e-01,  2.9766e+00],\n",
       "        [ 9.4291e-01,  1.5447e+00],\n",
       "        [ 1.2918e+00,  8.6209e-01],\n",
       "        [ 3.8538e-01,  1.6199e+00],\n",
       "        [ 9.8636e-01,  9.9442e-01],\n",
       "        [ 1.4121e+00,  2.1072e+00],\n",
       "        [ 6.2850e-02,  8.1441e-01],\n",
       "        [ 1.8352e+00, -1.2142e-01],\n",
       "        [ 2.0945e+00,  1.2464e+00],\n",
       "        [ 1.3212e+00,  2.5610e+00],\n",
       "        [ 1.0151e+00, -1.9662e-01],\n",
       "        [-1.6449e-01,  7.5765e-01],\n",
       "        [ 1.4948e+00,  2.0048e+00],\n",
       "        [-2.1585e-01, -9.2013e-01],\n",
       "        [ 2.5908e+00,  1.6254e+00],\n",
       "        [ 1.5265e+00,  1.7530e+00],\n",
       "        [ 1.2648e+00,  1.2135e+00],\n",
       "        [ 6.0640e-01,  2.2977e-01],\n",
       "        [-1.1763e+00,  9.9287e-01],\n",
       "        [-1.9565e-01,  1.0932e+00],\n",
       "        [ 1.3653e+00,  1.9353e+00],\n",
       "        [ 3.4124e+00,  1.6635e+00],\n",
       "        [ 1.7402e+00,  6.4977e-01],\n",
       "        [ 1.3097e+00,  2.6199e+00],\n",
       "        [ 4.5801e-01,  9.4917e-01],\n",
       "        [ 1.1223e+00,  1.8730e-01],\n",
       "        [ 1.9623e+00,  5.6158e-01],\n",
       "        [ 7.4603e-01,  1.8586e+00],\n",
       "        [ 2.8918e+00,  1.1952e+00],\n",
       "        [-2.2025e-01,  1.8889e+00],\n",
       "        [ 6.2376e-01,  1.0692e+00],\n",
       "        [ 1.0524e+00,  3.4868e+00],\n",
       "        [-9.5393e-01, -6.6564e-01],\n",
       "        [ 1.5654e+00,  5.8407e-01],\n",
       "        [ 1.0778e+00,  9.1578e-01],\n",
       "        [ 1.0807e+00,  1.0893e+00],\n",
       "        [ 1.7947e+00,  2.4561e+00],\n",
       "        [ 2.0437e+00,  1.2195e+00],\n",
       "        [ 1.8022e+00,  8.8512e-01],\n",
       "        [ 5.3118e-01,  1.0686e+00],\n",
       "        [ 9.5341e-01,  1.7515e+00],\n",
       "        [ 1.3535e+00,  3.1057e-01],\n",
       "        [-2.5680e-01,  1.4508e+00],\n",
       "        [-3.6031e-02, -5.6502e-01],\n",
       "        [ 5.7304e-01,  9.2120e-01],\n",
       "        [ 1.0777e+00,  5.8208e-02],\n",
       "        [ 2.7909e+00,  3.4714e-01],\n",
       "        [ 1.7973e+00,  1.2825e+00],\n",
       "        [ 5.5750e-01, -1.2508e-01],\n",
       "        [ 3.7091e-01,  1.1026e-02],\n",
       "        [ 2.5338e+00, -5.1586e-01],\n",
       "        [ 3.7335e+00, -1.2285e+00],\n",
       "        [ 1.1674e+00,  8.4848e-01],\n",
       "        [ 5.2113e-01,  2.1627e+00],\n",
       "        [-4.1265e-01,  8.1806e-01],\n",
       "        [ 1.9750e+00,  7.6605e-01],\n",
       "        [ 1.2897e+00, -4.6734e-02],\n",
       "        [ 2.1654e+00,  2.5833e+00],\n",
       "        [ 9.1294e-02,  7.5059e-01],\n",
       "        [ 1.2406e+00,  2.2940e+00],\n",
       "        [ 3.4595e-01,  1.3620e+00],\n",
       "        [ 2.2750e+00,  7.3695e-01],\n",
       "        [ 4.4881e-01,  2.0821e+00],\n",
       "        [ 9.1259e-01,  1.9824e+00],\n",
       "        [ 6.5218e-01,  8.8856e-01],\n",
       "        [ 1.9940e+00,  2.2960e+00],\n",
       "        [ 1.4284e+00,  2.7813e+00],\n",
       "        [-4.1853e-03,  9.3439e-01],\n",
       "        [ 3.6731e-01,  7.4432e-01],\n",
       "        [-4.5710e-02,  1.4046e+00],\n",
       "        [ 1.5057e+00,  1.3518e+00],\n",
       "        [ 1.3320e+00,  1.8075e+00],\n",
       "        [-6.3541e-01,  7.4441e-01],\n",
       "        [-9.0684e-01,  1.7151e+00],\n",
       "        [ 9.5960e-01,  2.0486e+00],\n",
       "        [ 1.6972e+00,  1.1775e+00],\n",
       "        [ 1.1688e+00,  1.1533e+00],\n",
       "        [-5.4380e-01, -2.5432e-01],\n",
       "        [-5.5180e-01, -1.7280e-01],\n",
       "        [ 1.8671e+00, -4.6144e-01],\n",
       "        [ 8.5463e-01, -2.4429e-01],\n",
       "        [ 6.1376e-01,  8.4490e-01],\n",
       "        [ 2.3162e+00, -6.1491e-01],\n",
       "        [ 2.0354e-01,  3.2461e+00],\n",
       "        [ 1.1354e+00,  1.7393e+00],\n",
       "        [ 1.4178e+00, -1.0676e+00],\n",
       "        [ 1.8199e+00, -1.5455e-01],\n",
       "        [ 1.4565e-01,  8.9281e-01],\n",
       "        [ 1.3573e+00, -7.1288e-01],\n",
       "        [ 3.7485e+00,  5.4011e-01],\n",
       "        [-5.1298e-01,  2.0910e+00],\n",
       "        [ 1.4340e+00,  8.3612e-01],\n",
       "        [ 7.7023e-01,  9.3276e-01],\n",
       "        [ 1.7291e-01, -1.5925e-03],\n",
       "        [ 1.6802e-01,  4.4434e-01],\n",
       "        [ 1.4979e+00, -3.5156e-01],\n",
       "        [ 3.3156e+00,  1.3642e+00],\n",
       "        [ 2.0617e-01,  5.4779e-01],\n",
       "        [ 1.5410e+00,  1.7834e+00],\n",
       "        [ 4.4094e-01,  2.2372e+00]])}"
      ]
     },
     "execution_count": 20,
     "metadata": {},
     "output_type": "execute_result"
    }
   ],
   "source": [
    "Output"
   ]
  },
  {
   "cell_type": "code",
   "execution_count": 23,
   "id": "a1111dda",
   "metadata": {},
   "outputs": [
    {
     "data": {
      "text/plain": [
       "9.904633"
      ]
     },
     "execution_count": 23,
     "metadata": {},
     "output_type": "execute_result"
    }
   ],
   "source": [
    "Output[1].mean()"
   ]
  },
  {
   "cell_type": "code",
   "execution_count": 24,
   "id": "61f8dfc1",
   "metadata": {},
   "outputs": [
    {
     "data": {
      "text/plain": [
       "20.172244999999997"
      ]
     },
     "execution_count": 24,
     "metadata": {},
     "output_type": "execute_result"
    }
   ],
   "source": [
    "Output[2].mean()"
   ]
  },
  {
   "cell_type": "code",
   "execution_count": 25,
   "id": "4ece65c9",
   "metadata": {},
   "outputs": [
    {
     "data": {
      "text/plain": [
       "1.0218094260000001"
      ]
     },
     "execution_count": 25,
     "metadata": {},
     "output_type": "execute_result"
    }
   ],
   "source": [
    "Output[3].mean()"
   ]
  },
  {
   "cell_type": "code",
   "execution_count": null,
   "id": "5b6aa6c3",
   "metadata": {},
   "outputs": [],
   "source": []
  }
 ],
 "metadata": {
  "kernelspec": {
   "display_name": "Python 3 (ipykernel)",
   "language": "python",
   "name": "python3"
  },
  "language_info": {
   "codemirror_mode": {
    "name": "ipython",
    "version": 3
   },
   "file_extension": ".py",
   "mimetype": "text/x-python",
   "name": "python",
   "nbconvert_exporter": "python",
   "pygments_lexer": "ipython3",
   "version": "3.9.7"
  }
 },
 "nbformat": 4,
 "nbformat_minor": 5
}
